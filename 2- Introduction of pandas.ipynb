{
 "cells": [
  {
   "cell_type": "code",
   "execution_count": null,
   "metadata": {},
   "outputs": [],
   "source": [
    "# libraries\n",
    "\n",
    "import numpy as np   # for arrays\n",
    "import pandas as pd  # for dataframes\n",
    "import matplotlib.pyplot as plt  # for plots\n",
    "# import sklearn : for machine learning\n",
    "# import nltk : for text mining\n",
    "# import math : for mathematical functions\n",
    "# import seaborn : for plots\n",
    "\n",
    "\n",
    "# arrays\n",
    "\n",
    "g = np.array([1, 2, 3], dtype = float)\n",
    "g[0]\n"
   ]
  },
  {
   "cell_type": "code",
   "execution_count": null,
   "metadata": {},
   "outputs": [],
   "source": [
    "\n",
    "# dataframes\n",
    "\n",
    "h = pd.DataFrame({\"c1\":[1, 2, 3], \"c2\": ['a', 'b', 'c']})\n",
    "h.index = ['01', '02', '03']\n",
    "h.iloc[0, 0]\n",
    "h.iloc[:, 1]\n",
    "h.loc[:, 'c1']\n",
    "h['c1']\n",
    "\n"
   ]
  },
  {
   "cell_type": "code",
   "execution_count": null,
   "metadata": {},
   "outputs": [],
   "source": [
    "\n",
    "# 2-D array\n",
    "\n",
    "i = np.array([[1, 2, 3], [4, 5, 6], [True, False, True]])\n",
    "i[0][1]\n",
    "\n"
   ]
  },
  {
   "cell_type": "code",
   "execution_count": null,
   "metadata": {},
   "outputs": [],
   "source": [
    "\n",
    "# dataframe to array\n",
    "\n",
    "h2 = h.to_numpy()\n"
   ]
  },
  {
   "cell_type": "code",
   "execution_count": null,
   "metadata": {},
   "outputs": [],
   "source": [
    "\n",
    "# array to dataframe\n",
    "\n",
    "g2 = pd.DataFrame(g, columns = ['a'])\n"
   ]
  },
  {
   "cell_type": "code",
   "execution_count": null,
   "metadata": {},
   "outputs": [],
   "source": [
    "\n",
    "# plot\n",
    "\n",
    "x = [1, 2, 3]\n",
    "\n",
    "y = [i ** 2 for i in x]\n",
    "\n",
    "plt.plot(x, y, color = 'red')\n",
    "plt.scatter(x, y, color = 'blue')\n"
   ]
  },
  {
   "cell_type": "code",
   "execution_count": null,
   "metadata": {},
   "outputs": [],
   "source": [
    "\n",
    "# files \n",
    "\n",
    "import os\n",
    "os.getcwd()\n",
    "dataset = pd.read_csv('Data.csv')"
   ]
  }
 ],
 "metadata": {
  "kernelspec": {
   "display_name": "Python 3",
   "language": "python",
   "name": "python3"
  },
  "language_info": {
   "name": "python",
   "version": "3.10.10"
  },
  "orig_nbformat": 4
 },
 "nbformat": 4,
 "nbformat_minor": 2
}
